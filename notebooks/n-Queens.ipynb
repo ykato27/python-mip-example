{
 "cells": [
  {
   "cell_type": "markdown",
   "id": "62c5eed0",
   "metadata": {},
   "source": [
    "## n-Queens"
   ]
  },
  {
   "cell_type": "markdown",
   "id": "5cb238b8",
   "metadata": {},
   "source": [
    "In the 𝑛-queens puzzle 𝑛 chess queens should to be placed in a board with 𝑛×𝑛 cells in a way that no queen can attack another, i.e., there must be at most one queen per row, column and diagonal. This is a constraint satisfaction problem: any feasible solution is acceptable and no objective function is defined. The following binary programming formulation can be used to solve this problem:"
   ]
  },
  {
   "cell_type": "markdown",
   "id": "c51c5a70",
   "metadata": {},
   "source": [
    "$\n",
    "\\begin{align*}\n",
    "&& \\sum_{j=1}^n &x_{i, j} = 1 \\forall{i} \\in \\{1, ..., n \\} \\\\\n",
    "&& \\sum_{i=1}^n &x_{i, j} = 1 \\forall{j} \\in \\{1, ..., n \\} \\\\\n",
    "&& \\sum_{i=1}^n \\sum_{j=1 : i-j=k}^n &x_{i, j} \\leqq 1 \\forall{i} \\in \\{1, ..., n \\}, k \\in \\{2-n, ..., n-2 \\} \\\\\n",
    "&& \\sum_{i=1}^n \\sum_{j=1 : i+j=k}^n &x_{i, j} \\leqq 1 \\forall{i} \\in \\{1, ..., n \\}, k \\in \\{3, ..., n+n-1 \\} \\\\\n",
    "&& &x_{i, j} \\in \\{0,1\\} \\forall{i} \\in \\{1, ..., n \\}, j \\in \\{1, ..., n \\} \\\\\n",
    "\\end{align*}\n",
    "$"
   ]
  },
  {
   "cell_type": "code",
   "execution_count": 1,
   "id": "bbc8af06",
   "metadata": {},
   "outputs": [
    {
     "name": "stdout",
     "output_type": "stream",
     "text": [
      "Welcome to the CBC MILP Solver \n",
      "Version: devel \n",
      "Build Date: Nov 15 2020 \n",
      "\n",
      "Starting solution of the Linear programming relaxation problem using Primal Simplex\n",
      "\n",
      "Coin0506I Presolve 232 (-1) rows, 1600 (0) columns and 6391 (-1) elements\n",
      "Clp1000I sum of infeasibilities 9.47898e-08 - average 4.06823e-10, 231 fixed columns\n",
      "Coin0506I Presolve 226 (-7) rows, 1369 (-231) columns and 5470 (-922) elements\n",
      "Clp0000I Optimal - objective value 0\n",
      "Clp0000I Optimal - objective value 0\n",
      "Coin0511I After Postsolve, objective 0, infeasibilities - dual 0 (0), primal 0 (0)\n",
      "Clp0000I Optimal - objective value 0\n",
      "Clp0000I Optimal - objective value 0\n",
      "Clp0000I Optimal - objective value 0\n",
      "Clp0032I Optimal objective 0 - 0 iterations time 0.032, Idiot 0.03\n",
      "\n",
      "Starting MIP optimization\n",
      "\n",
      ". . . . . . . . . . . . O . . . . . . . . . . . . . . . . . . . . . . . . . . . \n",
      ". . . . . . . . . . . . . . . . . O . . . . . . . . . . . . . . . . . . . . . . \n",
      ". . . . . . . . . . . . . O . . . . . . . . . . . . . . . . . . . . . . . . . . \n",
      ". . . . . . . . . . . . . . . . . . . . . . . O . . . . . . . . . . . . . . . . \n",
      ". . . . . . . . . . . . . . . . . . . . . . . . . . . . . . . . . O . . . . . . \n",
      ". . . . . . . . . . . . . . . . . . . . . . . . . . . . . . . . . . . . . . . O \n",
      ". . . . . . . . . . . . . . . . . . . . . . . . . . . . . . . . O . . . . . . . \n",
      ". . . . . . . . . . . . . . . . O . . . . . . . . . . . . . . . . . . . . . . . \n",
      ". . . . . O . . . . . . . . . . . . . . . . . . . . . . . . . . . . . . . . . . \n",
      ". . . . . . . . . . O . . . . . . . . . . . . . . . . . . . . . . . . . . . . . \n",
      ". . . . . . . . . . . . . . . . . . . . . . . . . O . . . . . . . . . . . . . . \n",
      ". . . . . . O . . . . . . . . . . . . . . . . . . . . . . . . . . . . . . . . . \n",
      ". . . . . . . . . . . . . . . . . . . . . . . . . . . . . . . O . . . . . . . . \n",
      ". . . . . . . . . . . . . . . . . . O . . . . . . . . . . . . . . . . . . . . . \n",
      ". . . . . . . . O . . . . . . . . . . . . . . . . . . . . . . . . . . . . . . . \n",
      ". . . . . . . . . . . . . . . . . . . . . O . . . . . . . . . . . . . . . . . . \n",
      ". . . . . . . . . . . . . . . . . . . . . . . . . . . . . O . . . . . . . . . . \n",
      ". . . . . . . . . . . . . . . . . . . . . . . . . . . . . . . . . . O . . . . . \n",
      ". . . . . . . . . O . . . . . . . . . . . . . . . . . . . . . . . . . . . . . . \n",
      ". . O . . . . . . . . . . . . . . . . . . . . . . . . . . . . . . . . . . . . . \n",
      ". . . . . . . . . . . . . . . . . . . . . . . . . . . . . . O . . . . . . . . . \n",
      ". . . . . . . . . . . O . . . . . . . . . . . . . . . . . . . . . . . . . . . . \n",
      ". . . . . . . . . . . . . . . . . . . . . . . . O . . . . . . . . . . . . . . . \n",
      ". . . . . . . . . . . . . . . . . . . . . . . . . . . . . . . . . . . . . O . . \n",
      ". O . . . . . . . . . . . . . . . . . . . . . . . . . . . . . . . . . . . . . . \n",
      ". . . . O . . . . . . . . . . . . . . . . . . . . . . . . . . . . . . . . . . . \n",
      ". . . . . . . . . . . . . . O . . . . . . . . . . . . . . . . . . . . . . . . . \n",
      ". . . O . . . . . . . . . . . . . . . . . . . . . . . . . . . . . . . . . . . . \n",
      ". . . . . . . . . . . . . . . . . . . . . . . . . . . O . . . . . . . . . . . . \n",
      ". . . . . . . . . . . . . . . . . . . . . . . . . . . . . . . . . . . . O . . . \n",
      ". . . . . . . . . . . . . . . . . . . . . . . . . . O . . . . . . . . . . . . . \n",
      ". . . . . . . . . . . . . . . . . . . . . . . . . . . . . . . . . . . O . . . . \n",
      ". . . . . . . O . . . . . . . . . . . . . . . . . . . . . . . . . . . . . . . . \n",
      "O . . . . . . . . . . . . . . . . . . . . . . . . . . . . . . . . . . . . . . . \n",
      ". . . . . . . . . . . . . . . . . . . O . . . . . . . . . . . . . . . . . . . . \n",
      ". . . . . . . . . . . . . . . . . . . . . . O . . . . . . . . . . . . . . . . . \n",
      ". . . . . . . . . . . . . . . . . . . . . . . . . . . . O . . . . . . . . . . . \n",
      ". . . . . . . . . . . . . . . O . . . . . . . . . . . . . . . . . . . . . . . . \n",
      ". . . . . . . . . . . . . . . . . . . . . . . . . . . . . . . . . . . . . . O . \n",
      ". . . . . . . . . . . . . . . . . . . . O . . . . . . . . . . . . . . . . . . . \n"
     ]
    }
   ],
   "source": [
    "from sys import stdout\n",
    "from mip import Model, xsum, BINARY\n",
    "\n",
    "# number of queens\n",
    "n = 40\n",
    "\n",
    "queens = Model()\n",
    "\n",
    "x = [[queens.add_var('x({},{})'.format(i, j), var_type=BINARY)\n",
    "      for j in range(n)] for i in range(n)]\n",
    "\n",
    "# one per row\n",
    "for i in range(n):\n",
    "    queens += xsum(x[i][j] for j in range(n)) == 1, 'row({})'.format(i)\n",
    "\n",
    "# one per column\n",
    "for j in range(n):\n",
    "    queens += xsum(x[i][j] for i in range(n)) == 1, 'col({})'.format(j)\n",
    "\n",
    "# diagonal \\\n",
    "for p, k in enumerate(range(2 - n, n - 2 + 1)):\n",
    "    queens += xsum(x[i][i - k] for i in range(n)\n",
    "                   if 0 <= i - k < n) <= 1, 'diag1({})'.format(p)\n",
    "\n",
    "# diagonal /\n",
    "for p, k in enumerate(range(3, n + n)):\n",
    "    queens += xsum(x[i][k - i] for i in range(n)\n",
    "                   if 0 <= k - i < n) <= 1, 'diag2({})'.format(p)\n",
    "\n",
    "queens.optimize()\n",
    "\n",
    "if queens.num_solutions:\n",
    "    stdout.write('\\n')\n",
    "    for i, v in enumerate(queens.vars):\n",
    "        stdout.write('O ' if v.x >= 0.99 else '. ')\n",
    "        if i % n == n-1:\n",
    "            stdout.write('\\n')"
   ]
  },
  {
   "cell_type": "code",
   "execution_count": null,
   "id": "94ed4c4b",
   "metadata": {},
   "outputs": [],
   "source": []
  }
 ],
 "metadata": {
  "kernelspec": {
   "display_name": "Python 3 (ipykernel)",
   "language": "python",
   "name": "python3"
  },
  "language_info": {
   "codemirror_mode": {
    "name": "ipython",
    "version": 3
   },
   "file_extension": ".py",
   "mimetype": "text/x-python",
   "name": "python",
   "nbconvert_exporter": "python",
   "pygments_lexer": "ipython3",
   "version": "3.9.6"
  }
 },
 "nbformat": 4,
 "nbformat_minor": 5
}
