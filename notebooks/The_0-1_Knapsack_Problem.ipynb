{
 "cells": [
  {
   "cell_type": "markdown",
   "id": "c887bbde",
   "metadata": {},
   "source": [
    "## The 0/1 Knapsack Problem"
   ]
  },
  {
   "cell_type": "markdown",
   "id": "d38d1411",
   "metadata": {},
   "source": [
    "As a first example, consider the solution of the 0/1 knapsack problem: given a set 𝐼 of items, each one with a weight 𝑤𝑖 and estimated profit 𝑝𝑖, one wants to select a subset with maximum profit such that the summation of the weights of the selected items is less or equal to the knapsack capacity 𝑐. Considering a set of decision binary variables 𝑥𝑖 that receive value 1 if the 𝑖-th item is selected, or 0 if not, the resulting mathematical programming formulation is:"
   ]
  },
  {
   "cell_type": "markdown",
   "id": "91581bc4",
   "metadata": {},
   "source": [
    "$\n",
    "\\begin{align*}\n",
    "&Maximize& &\\sum_{i \\in I} p_{i} * x_{i} \\\\\n",
    "&s.t.& &\\sum_{i \\in I} w_{i} * x_{i} \\leqq c \\\\\n",
    "&&　&x_{i} \\in \\{0,1\\} & \\forall{i} \\in I \\\\\n",
    "\\end{align*}\n",
    "$"
   ]
  },
  {
   "cell_type": "code",
   "execution_count": null,
   "id": "ec7555c2",
   "metadata": {},
   "outputs": [],
   "source": []
  },
  {
   "cell_type": "code",
   "execution_count": 1,
   "id": "b8b89ada",
   "metadata": {},
   "outputs": [
    {
     "name": "stdout",
     "output_type": "stream",
     "text": [
      "Welcome to the CBC MILP Solver \n",
      "Version: devel \n",
      "Build Date: Nov 15 2020 \n",
      "\n",
      "Starting solution of the Linear programming relaxation problem using Primal Simplex\n",
      "\n",
      "Coin0506I Presolve 1 (0) rows, 6 (0) columns and 6 (0) elements\n",
      "Clp1000I sum of infeasibilities 0 - average 0, 6 fixed columns\n",
      "Coin0506I Presolve 0 (-1) rows, 0 (-6) columns and 0 (-6) elements\n",
      "Clp0000I Optimal - objective value -0\n",
      "Clp0000I Optimal - objective value -0\n",
      "Coin0511I After Postsolve, objective 0, infeasibilities - dual 0 (0), primal 0 (0)\n",
      "Clp0000I Optimal - objective value 42.171429\n",
      "Clp0000I Optimal - objective value 42.171429\n",
      "Clp0000I Optimal - objective value 42.171429\n",
      "Clp0032I Optimal objective 42.17142857 - 0 iterations time 0.002, Idiot 0.00\n",
      "\n",
      "Starting MIP optimization\n",
      "selected items: [0, 3]\n"
     ]
    }
   ],
   "source": [
    "from mip import Model, xsum, maximize, BINARY\n",
    "\n",
    "p = [10, 13, 18, 31, 7, 15]\n",
    "w = [11, 15, 20, 35, 10, 33]\n",
    "c, I = 47, range(len(w))\n",
    "\n",
    "m = Model(\"knapsack\")\n",
    "\n",
    "x = [m.add_var(var_type=BINARY) for i in I]\n",
    "\n",
    "m.objective = maximize(xsum(p[i] * x[i] for i in I))\n",
    "\n",
    "m += xsum(w[i] * x[i] for i in I) <= c\n",
    "\n",
    "m.optimize()\n",
    "\n",
    "selected = [i for i in I if x[i].x >= 0.99]\n",
    "print(\"selected items: {}\".format(selected))"
   ]
  },
  {
   "cell_type": "code",
   "execution_count": null,
   "id": "e450de5d",
   "metadata": {},
   "outputs": [],
   "source": []
  }
 ],
 "metadata": {
  "kernelspec": {
   "display_name": "Python 3 (ipykernel)",
   "language": "python",
   "name": "python3"
  },
  "language_info": {
   "codemirror_mode": {
    "name": "ipython",
    "version": 3
   },
   "file_extension": ".py",
   "mimetype": "text/x-python",
   "name": "python",
   "nbconvert_exporter": "python",
   "pygments_lexer": "ipython3",
   "version": "3.9.6"
  }
 },
 "nbformat": 4,
 "nbformat_minor": 5
}
