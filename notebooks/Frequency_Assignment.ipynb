{
 "cells": [
  {
   "cell_type": "markdown",
   "id": "da83739a",
   "metadata": {},
   "source": [
    "## Frequency Assignment"
   ]
  },
  {
   "cell_type": "markdown",
   "id": "d0abe62f",
   "metadata": {},
   "source": [
    "The design of wireless networks, such as cell phone networks, involves assigning communication frequencies to devices. These communication frequencies can be separated into channels. The geographical area covered by a network can be divided into hexagonal cells, where each cell has a base station that covers a given area. Each cell requires a different number of channels, based on usage statistics and each cell has a set of neighbor cells, based on the geographical distances. The design of an efficient mobile network involves selecting subsets of channels for each cell, avoiding interference between calls in the same cell and in neighboring cells. Also, for economical reasons, the total bandwidth in use must be minimized, i.e., the total number of different channels used. One of the first real cases discussed in literature are the Philadelphia [Ande73] instances, with the structure depicted bellow:"
   ]
  },
  {
   "cell_type": "markdown",
   "id": "f3a4dfce",
   "metadata": {},
   "source": [
    "Each cell has a demand with the required number of channels drawn at the center of the hexagon, and a sequential id at the top left corner. Also, in this example, each cell has a set of at most 6 adjacent neighboring cells (distance 1). The largest demand (8) occurs on cell 2. This cell has the following adjacent cells, with distance 1: (1, 6). The minimum distances between channels in the same cell in this example is 3 and channels in neighbor cells should differ by at least 2 units.\n",
    "\n",
    "A generalization of this problem (not restricted to the hexagonal topology), is the Bandwidth Multicoloring Problem (BMCP), which has the following input data:\n",
    "\n",
    "𝑁:\n",
    "set of cells, numbered from 1 to 𝑛;\n",
    "\n",
    "𝑟𝑖∈ℤ+:\n",
    "demand of cell 𝑖∈𝑁, i.e., the required number of channels;\n",
    "\n",
    "𝑑𝑖,𝑗∈ℤ+:\n",
    "minimum distance between channels assigned to nodes 𝑖 and 𝑗, 𝑑𝑖,𝑖 indicates the minimum distance between different channels allocated to the same cell.\n",
    "\n",
    "Given an upper limit 𝑢⎯⎯⎯ on the maximum number of channels 𝑈={1,…,𝑢⎯⎯⎯} used, which can be obtained using a simple greedy heuristic, the BMPC can be formally stated as the combinatorial optimization problem of defining subsets of channels 𝐶1,…,𝐶𝑛 while minimizing the used bandwidth and avoiding interference:"
   ]
  },
  {
   "cell_type": "markdown",
   "id": "9a3c3523",
   "metadata": {},
   "source": [
    "$\n",
    "\\begin{align*}\n",
    "&Minimize& &\\max_{c \\in C_1, \\cup ,..., C_n} c \\\\\n",
    "&s.t.& &\\|c_1 - c_2\\| \\geqq d_{i, j} \\forall (i, j) \\in N × N, (c_1, c_2) \\forall C_i × C_j \\\\\n",
    "&& &C_i \\subseteq U \\forall i \\in N \\\\\n",
    "&& &\\|C_i\\|=r_i \\forall i \\in N \\\\\n",
    "\\end{align*}\n",
    "$"
   ]
  },
  {
   "cell_type": "markdown",
   "id": "7ad870d2",
   "metadata": {},
   "source": [
    "This problem can be formulated as a mixed integer program with binary variables indicating the composition of the subsets: binary variables 𝑥(𝑖,𝑐) indicate if for a given cell 𝑖 channel 𝑐 is selected (𝑥(𝑖,𝑐)=1) or not (𝑥(𝑖,𝑐)=0). The BMCP can be modeled with the following MIP formulation:"
   ]
  },
  {
   "cell_type": "markdown",
   "id": "58ea72bc",
   "metadata": {},
   "source": [
    "$\n",
    "\\begin{align*}\n",
    "&Minimize& &z \\\\\n",
    "&s.t.& &\\sum_{c=1}^{u} = r_i \\forall i \\in N \\\\\n",
    "&& &x_{i, c} + x_{j, c'} \\leqq 1 \\forall (i, j, c, c') \\in N × N × U × U : i ≠ j \\wedge \\|c - c'\\|<d_{i, j} \\\\\n",
    "&& &x_{i, c} + x_{i, c'} \\leqq 1 \\forall i, c \\in N × U, c' \\in \\{c, +1 ..., min(c+d_{i,i},u)\\} \\\\\n",
    "&& &x_{i, c} \\in \\{0, 1\\} \\forall i \\in N, c \\in U \\\\\n",
    "&& &z \\geqq 0 \\\\\n",
    "\\end{align*}\n",
    "$"
   ]
  },
  {
   "cell_type": "markdown",
   "id": "757c7470",
   "metadata": {},
   "source": [
    "Follows the example of a solver for the BMCP using the previous MIP formulation:"
   ]
  },
  {
   "cell_type": "code",
   "execution_count": null,
   "id": "2b02baf0",
   "metadata": {},
   "outputs": [
    {
     "name": "stdout",
     "output_type": "stream",
     "text": [
      "Welcome to the CBC MILP Solver \n",
      "Version: devel \n",
      "Build Date: Nov 15 2020 \n",
      "\n",
      "Starting solution of the Linear programming relaxation problem using Dual Simplex\n",
      "\n",
      "Coin0506I Presolve 6282 (-1199) rows, 873 (0) columns and 13420 (-2398) elements\n",
      "Clp0014I Perturbing problem by 0.001% of 1.797539 - largest nonzero change 0.00011682946 ( 0.0064994119%) - largest zero change 0.00011653858\n",
      "Clp0000I Optimal - objective value 1.8896391\n",
      "Coin0511I After Postsolve, objective 1.8896391, infeasibilities - dual 0 (0), primal 0 (0)\n",
      "Clp0032I Optimal objective 1.889639058 - 367 iterations time 0.022, Presolve 0.01\n",
      "\n",
      "Starting MIP optimization\n",
      "Cgl0003I 0 fixed, 0 tightened bounds, 4943 strengthened rows, 0 substitutions\n",
      "Cgl0003I 0 fixed, 0 tightened bounds, 4582 strengthened rows, 0 substitutions\n",
      "Cgl0003I 0 fixed, 0 tightened bounds, 3545 strengthened rows, 0 substitutions\n",
      "Cgl0003I 0 fixed, 0 tightened bounds, 1784 strengthened rows, 0 substitutions\n",
      "Cgl0003I 0 fixed, 0 tightened bounds, 712 strengthened rows, 0 substitutions\n",
      "Cgl0003I 0 fixed, 0 tightened bounds, 473 strengthened rows, 0 substitutions\n",
      "Cgl0003I 0 fixed, 0 tightened bounds, 276 strengthened rows, 0 substitutions\n",
      "Cgl0003I 0 fixed, 0 tightened bounds, 75 strengthened rows, 0 substitutions\n",
      "Cgl0003I 0 fixed, 0 tightened bounds, 9 strengthened rows, 0 substitutions\n",
      "Cgl0004I processed model has 3023 rows, 873 columns (872 integer (872 of which binary)) and 13384 elements\n",
      "Coin3009W Conflict graph built in 0.002 seconds, density: 0.411%\n",
      "Cgl0015I Clique Strengthening extended 0 cliques, 0 were dominated\n",
      "Cbc0038I Initial state - 443 integers unsatisfied sum - 39.2759\n",
      "Cbc0038I Pass   1: (1.13 seconds) suminf.    0.00000 (0) obj. 109 iterations 649\n",
      "Cbc0038I Solution found of 109\n",
      "Cbc0038I Relaxing continuous gives 109\n",
      "Cbc0038I Before mini branch and bound, 416 integers at bound fixed and 0 continuous\n",
      "Cbc0038I Full problem 3023 rows 873 columns, reduced to 1756 rows 457 columns - 14 fixed gives 978, 328 - ok now\n",
      "Cbc0038I Full problem 3023 rows 873 columns, reduced to 978 rows 328 columns\n",
      "Cbc0038I Mini branch and bound improved solution from 109 to 98 (1.44 seconds)\n",
      "Cbc0038I Round again with cutoff of 87.5347\n",
      "Cbc0038I Pass   2: (1.44 seconds) suminf.    3.02201 (26) obj. 87.5347 iterations 14\n",
      "Cbc0038I Pass   3: (1.45 seconds) suminf.    2.03925 (20) obj. 87.5347 iterations 21\n",
      "Cbc0038I Pass   4: (1.45 seconds) suminf.    1.68893 (18) obj. 87.5347 iterations 48\n",
      "Cbc0038I Pass   5: (1.46 seconds) suminf.    1.53867 (19) obj. 87.5347 iterations 6\n",
      "Cbc0038I Pass   6: (1.46 seconds) suminf.    1.61196 (16) obj. 87.5347 iterations 24\n",
      "Cbc0038I Pass   7: (1.46 seconds) suminf.    1.61196 (16) obj. 87.5347 iterations 1\n",
      "Cbc0038I Pass   8: (1.48 seconds) suminf.    1.83084 (14) obj. 87.5347 iterations 26\n",
      "Cbc0038I Pass   9: (1.48 seconds) suminf.    1.43684 (16) obj. 87.5347 iterations 8\n",
      "Cbc0038I Pass  10: (1.48 seconds) suminf.    1.62679 (16) obj. 87.5347 iterations 29\n",
      "Cbc0038I Pass  11: (1.49 seconds) suminf.    1.74756 (18) obj. 87.5347 iterations 26\n",
      "Cbc0038I Pass  12: (1.49 seconds) suminf.    1.41682 (17) obj. 87.5347 iterations 6\n",
      "Cbc0038I Pass  13: (1.49 seconds) suminf.    2.00937 (18) obj. 87.5347 iterations 25\n",
      "Cbc0038I Pass  14: (1.50 seconds) suminf.    1.76435 (18) obj. 87.5347 iterations 17\n",
      "Cbc0038I Pass  15: (1.50 seconds) suminf.    1.74756 (18) obj. 87.5347 iterations 42\n",
      "Cbc0038I Pass  16: (1.51 seconds) suminf.    3.17021 (19) obj. 87.5347 iterations 168\n",
      "Cbc0038I Pass  17: (1.53 seconds) suminf.    1.46260 (14) obj. 87.5347 iterations 57\n",
      "Cbc0038I Pass  18: (1.54 seconds) suminf.    0.81243 (7) obj. 87.5347 iterations 24\n",
      "Cbc0038I Pass  19: (1.54 seconds) suminf.    0.60315 (5) obj. 87.5347 iterations 2\n",
      "Cbc0038I Pass  20: (1.54 seconds) suminf.    0.13000 (4) obj. 87.5347 iterations 6\n",
      "Cbc0038I Pass  21: (1.54 seconds) suminf.    0.13000 (4) obj. 87.5347 iterations 0\n",
      "Cbc0038I Pass  22: (1.55 seconds) suminf.    0.57022 (4) obj. 87.5347 iterations 3\n",
      "Cbc0038I Pass  23: (1.56 seconds) suminf.    1.87421 (13) obj. 87.5347 iterations 138\n",
      "Cbc0038I Pass  24: (1.56 seconds) suminf.    1.37560 (11) obj. 87.5347 iterations 49\n",
      "Cbc0038I Pass  25: (1.57 seconds) suminf.    0.24651 (4) obj. 87.5347 iterations 31\n",
      "Cbc0038I Pass  26: (1.57 seconds) suminf.    0.24651 (4) obj. 87.5347 iterations 1\n",
      "Cbc0038I Pass  27: (1.57 seconds) suminf.    0.38686 (4) obj. 87.5347 iterations 5\n",
      "Cbc0038I Pass  28: (1.58 seconds) suminf.    1.78798 (16) obj. 87.5347 iterations 133\n",
      "Cbc0038I Pass  29: (1.59 seconds) suminf.    0.82648 (9) obj. 87.5347 iterations 59\n",
      "Cbc0038I Pass  30: (1.59 seconds) suminf.    0.82064 (8) obj. 87.5347 iterations 28\n",
      "Cbc0038I Pass  31: (1.59 seconds) suminf.    0.71652 (8) obj. 87.5347 iterations 5\n",
      "Cbc0038I Rounding so"
     ]
    }
   ],
   "source": [
    "from itertools import product\n",
    "from mip import Model, xsum, minimize, BINARY\n",
    "\n",
    "# number of channels per node\n",
    "r = [3, 5, 8, 3, 6, 5, 7, 3]\n",
    "\n",
    "# distance between channels in the same node (i, i) and in adjacent nodes\n",
    "#      0  1  2  3  4  5  6  7\n",
    "d = [[3, 2, 0, 0, 2, 2, 0, 0],   # 0\n",
    "     [2, 3, 2, 0, 0, 2, 2, 0],   # 1\n",
    "     [0, 2, 3, 0, 0, 0, 3, 0],   # 2\n",
    "     [0, 0, 0, 3, 2, 0, 0, 2],   # 3\n",
    "     [2, 0, 0, 2, 3, 2, 0, 0],   # 4\n",
    "     [2, 2, 0, 0, 2, 3, 2, 0],   # 5\n",
    "     [0, 2, 2, 0, 0, 2, 3, 0],   # 6\n",
    "     [0, 0, 0, 2, 0, 0, 0, 3]]   # 7\n",
    "\n",
    "N = range(len(r))\n",
    "\n",
    "# in complete applications this upper bound should be obtained from a feasible\n",
    "# solution produced with some heuristic\n",
    "U = range(sum(d[i][j] for (i, j) in product(N, N)) + sum(el for el in r))\n",
    "\n",
    "m = Model()\n",
    "\n",
    "x = [[m.add_var('x({},{})'.format(i, c), var_type=BINARY)\n",
    "      for c in U] for i in N]\n",
    "\n",
    "z = m.add_var('z')\n",
    "m.objective = minimize(z)\n",
    "\n",
    "for i in N:\n",
    "    m += xsum(x[i][c] for c in U) == r[i]\n",
    "\n",
    "for i, j, c1, c2 in product(N, N, U, U):\n",
    "    if i != j and c1 <= c2 < c1+d[i][j]:\n",
    "        m += x[i][c1] + x[j][c2] <= 1\n",
    "\n",
    "for i, c1, c2 in product(N, U, U):\n",
    "    if c1 < c2 < c1+d[i][i]:\n",
    "        m += x[i][c1] + x[i][c2] <= 1\n",
    "\n",
    "for i, c in product(N, U):\n",
    "    m += z >= (c+1)*x[i][c]\n",
    "\n",
    "m.optimize(max_nodes=30)\n",
    "\n",
    "if m.num_solutions:\n",
    "    for i in N:\n",
    "        print('Channels of node %d: %s' % (i, [c for c in U if x[i][c].x >=\n",
    "                                               0.99]))"
   ]
  },
  {
   "cell_type": "code",
   "execution_count": null,
   "id": "8bc628e8",
   "metadata": {},
   "outputs": [],
   "source": []
  }
 ],
 "metadata": {
  "kernelspec": {
   "display_name": "Python 3 (ipykernel)",
   "language": "python",
   "name": "python3"
  },
  "language_info": {
   "codemirror_mode": {
    "name": "ipython",
    "version": 3
   },
   "file_extension": ".py",
   "mimetype": "text/x-python",
   "name": "python",
   "nbconvert_exporter": "python",
   "pygments_lexer": "ipython3",
   "version": "3.9.6"
  }
 },
 "nbformat": 4,
 "nbformat_minor": 5
}
